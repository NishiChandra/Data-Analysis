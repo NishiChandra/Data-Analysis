{
 "cells": [
  {
   "cell_type": "code",
   "execution_count": 53,
   "metadata": {},
   "outputs": [],
   "source": [
    "import numpy as np\n",
    "import pandas as pd\n",
    "import csv"
   ]
  },
  {
   "cell_type": "code",
   "execution_count": 54,
   "metadata": {},
   "outputs": [
    {
     "data": {
      "text/html": [
       "<div>\n",
       "<style scoped>\n",
       "    .dataframe tbody tr th:only-of-type {\n",
       "        vertical-align: middle;\n",
       "    }\n",
       "\n",
       "    .dataframe tbody tr th {\n",
       "        vertical-align: top;\n",
       "    }\n",
       "\n",
       "    .dataframe thead th {\n",
       "        text-align: right;\n",
       "    }\n",
       "</style>\n",
       "<table border=\"1\" class=\"dataframe\">\n",
       "  <thead>\n",
       "    <tr style=\"text-align: right;\">\n",
       "      <th></th>\n",
       "      <th>Timestamp</th>\n",
       "      <th>What's your level of interest for the following areas of Data Science? [Data Visualization]</th>\n",
       "      <th>What's your level of interest for the following areas of Data Science? [Machine Learning]</th>\n",
       "      <th>What's your level of interest for the following areas of Data Science? [Data Analysis / Statistics]</th>\n",
       "      <th>What's your level of interest for the following areas of Data Science? [Big Data (Spark / Hadoop)]</th>\n",
       "      <th>What's your level of interest for the following areas of Data Science? [Data Journalism]</th>\n",
       "      <th>What's your level of interest for the following areas of Data Science? [Deep Learning]</th>\n",
       "    </tr>\n",
       "  </thead>\n",
       "  <tbody>\n",
       "    <tr>\n",
       "      <th>0</th>\n",
       "      <td>2017/10/17 1:11:52 PM MDT</td>\n",
       "      <td>Very interested</td>\n",
       "      <td>Very interested</td>\n",
       "      <td>Somewhat interested</td>\n",
       "      <td>Not interested</td>\n",
       "      <td>Somewhat interested</td>\n",
       "      <td>Somewhat interested</td>\n",
       "    </tr>\n",
       "    <tr>\n",
       "      <th>1</th>\n",
       "      <td>2017/10/17 2:26:07 PM MDT</td>\n",
       "      <td>Very interested</td>\n",
       "      <td>Very interested</td>\n",
       "      <td>Very interested</td>\n",
       "      <td>Somewhat interested</td>\n",
       "      <td>Not interested</td>\n",
       "      <td>Very interested</td>\n",
       "    </tr>\n",
       "    <tr>\n",
       "      <th>2</th>\n",
       "      <td>2017/10/17 2:37:08 PM MDT</td>\n",
       "      <td>Not interested</td>\n",
       "      <td>Very interested</td>\n",
       "      <td>Somewhat interested</td>\n",
       "      <td>Very interested</td>\n",
       "      <td>Not interested</td>\n",
       "      <td>Very interested</td>\n",
       "    </tr>\n",
       "    <tr>\n",
       "      <th>3</th>\n",
       "      <td>2017/10/17 2:39:26 PM MDT</td>\n",
       "      <td>Very interested</td>\n",
       "      <td>Very interested</td>\n",
       "      <td>Very interested</td>\n",
       "      <td>Very interested</td>\n",
       "      <td>Somewhat interested</td>\n",
       "      <td>Very interested</td>\n",
       "    </tr>\n",
       "    <tr>\n",
       "      <th>4</th>\n",
       "      <td>2017/10/17 2:43:59 PM MDT</td>\n",
       "      <td>Somewhat interested</td>\n",
       "      <td>Very interested</td>\n",
       "      <td>Very interested</td>\n",
       "      <td>Very interested</td>\n",
       "      <td>Not interested</td>\n",
       "      <td>Somewhat interested</td>\n",
       "    </tr>\n",
       "  </tbody>\n",
       "</table>\n",
       "</div>"
      ],
      "text/plain": [
       "                   Timestamp  \\\n",
       "0  2017/10/17 1:11:52 PM MDT   \n",
       "1  2017/10/17 2:26:07 PM MDT   \n",
       "2  2017/10/17 2:37:08 PM MDT   \n",
       "3  2017/10/17 2:39:26 PM MDT   \n",
       "4  2017/10/17 2:43:59 PM MDT   \n",
       "\n",
       "  What's your level of interest for the following areas of Data Science? [Data Visualization]  \\\n",
       "0                                    Very interested                                            \n",
       "1                                    Very interested                                            \n",
       "2                                     Not interested                                            \n",
       "3                                    Very interested                                            \n",
       "4                                Somewhat interested                                            \n",
       "\n",
       "  What's your level of interest for the following areas of Data Science? [Machine Learning]  \\\n",
       "0                                    Very interested                                          \n",
       "1                                    Very interested                                          \n",
       "2                                    Very interested                                          \n",
       "3                                    Very interested                                          \n",
       "4                                    Very interested                                          \n",
       "\n",
       "  What's your level of interest for the following areas of Data Science? [Data Analysis / Statistics]  \\\n",
       "0                                Somewhat interested                                                    \n",
       "1                                    Very interested                                                    \n",
       "2                                Somewhat interested                                                    \n",
       "3                                    Very interested                                                    \n",
       "4                                    Very interested                                                    \n",
       "\n",
       "  What's your level of interest for the following areas of Data Science? [Big Data (Spark / Hadoop)]  \\\n",
       "0                                     Not interested                                                   \n",
       "1                                Somewhat interested                                                   \n",
       "2                                    Very interested                                                   \n",
       "3                                    Very interested                                                   \n",
       "4                                    Very interested                                                   \n",
       "\n",
       "  What's your level of interest for the following areas of Data Science? [Data Journalism]  \\\n",
       "0                                Somewhat interested                                         \n",
       "1                                     Not interested                                         \n",
       "2                                     Not interested                                         \n",
       "3                                Somewhat interested                                         \n",
       "4                                     Not interested                                         \n",
       "\n",
       "  What's your level of interest for the following areas of Data Science? [Deep Learning]  \n",
       "0                                Somewhat interested                                      \n",
       "1                                    Very interested                                      \n",
       "2                                    Very interested                                      \n",
       "3                                    Very interested                                      \n",
       "4                                Somewhat interested                                      "
      ]
     },
     "execution_count": 54,
     "metadata": {},
     "output_type": "execute_result"
    }
   ],
   "source": [
    "df=pd.read_csv('Data_Science_Topics_Survey.csv')\n",
    "df.head()"
   ]
  },
  {
   "cell_type": "code",
   "execution_count": 55,
   "metadata": {},
   "outputs": [
    {
     "name": "stdout",
     "output_type": "stream",
     "text": [
      "(2233, 7)\n"
     ]
    }
   ],
   "source": [
    "print(df.shape)"
   ]
  },
  {
   "cell_type": "code",
   "execution_count": 56,
   "metadata": {},
   "outputs": [
    {
     "data": {
      "text/html": [
       "<div>\n",
       "<style scoped>\n",
       "    .dataframe tbody tr th:only-of-type {\n",
       "        vertical-align: middle;\n",
       "    }\n",
       "\n",
       "    .dataframe tbody tr th {\n",
       "        vertical-align: top;\n",
       "    }\n",
       "\n",
       "    .dataframe thead th {\n",
       "        text-align: right;\n",
       "    }\n",
       "</style>\n",
       "<table border=\"1\" class=\"dataframe\">\n",
       "  <thead>\n",
       "    <tr style=\"text-align: right;\">\n",
       "      <th></th>\n",
       "      <th>What's your level of interest for the following areas of Data Science? [Data Visualization]</th>\n",
       "      <th>What's your level of interest for the following areas of Data Science? [Machine Learning]</th>\n",
       "      <th>What's your level of interest for the following areas of Data Science? [Data Analysis / Statistics]</th>\n",
       "      <th>What's your level of interest for the following areas of Data Science? [Big Data (Spark / Hadoop)]</th>\n",
       "      <th>What's your level of interest for the following areas of Data Science? [Data Journalism]</th>\n",
       "      <th>What's your level of interest for the following areas of Data Science? [Deep Learning]</th>\n",
       "    </tr>\n",
       "  </thead>\n",
       "  <tbody>\n",
       "    <tr>\n",
       "      <th>0</th>\n",
       "      <td>Very interested</td>\n",
       "      <td>Very interested</td>\n",
       "      <td>Somewhat interested</td>\n",
       "      <td>Not interested</td>\n",
       "      <td>Somewhat interested</td>\n",
       "      <td>Somewhat interested</td>\n",
       "    </tr>\n",
       "    <tr>\n",
       "      <th>1</th>\n",
       "      <td>Very interested</td>\n",
       "      <td>Very interested</td>\n",
       "      <td>Very interested</td>\n",
       "      <td>Somewhat interested</td>\n",
       "      <td>Not interested</td>\n",
       "      <td>Very interested</td>\n",
       "    </tr>\n",
       "    <tr>\n",
       "      <th>2</th>\n",
       "      <td>Not interested</td>\n",
       "      <td>Very interested</td>\n",
       "      <td>Somewhat interested</td>\n",
       "      <td>Very interested</td>\n",
       "      <td>Not interested</td>\n",
       "      <td>Very interested</td>\n",
       "    </tr>\n",
       "    <tr>\n",
       "      <th>3</th>\n",
       "      <td>Very interested</td>\n",
       "      <td>Very interested</td>\n",
       "      <td>Very interested</td>\n",
       "      <td>Very interested</td>\n",
       "      <td>Somewhat interested</td>\n",
       "      <td>Very interested</td>\n",
       "    </tr>\n",
       "    <tr>\n",
       "      <th>4</th>\n",
       "      <td>Somewhat interested</td>\n",
       "      <td>Very interested</td>\n",
       "      <td>Very interested</td>\n",
       "      <td>Very interested</td>\n",
       "      <td>Not interested</td>\n",
       "      <td>Somewhat interested</td>\n",
       "    </tr>\n",
       "  </tbody>\n",
       "</table>\n",
       "</div>"
      ],
      "text/plain": [
       "  What's your level of interest for the following areas of Data Science? [Data Visualization]  \\\n",
       "0                                    Very interested                                            \n",
       "1                                    Very interested                                            \n",
       "2                                     Not interested                                            \n",
       "3                                    Very interested                                            \n",
       "4                                Somewhat interested                                            \n",
       "\n",
       "  What's your level of interest for the following areas of Data Science? [Machine Learning]  \\\n",
       "0                                    Very interested                                          \n",
       "1                                    Very interested                                          \n",
       "2                                    Very interested                                          \n",
       "3                                    Very interested                                          \n",
       "4                                    Very interested                                          \n",
       "\n",
       "  What's your level of interest for the following areas of Data Science? [Data Analysis / Statistics]  \\\n",
       "0                                Somewhat interested                                                    \n",
       "1                                    Very interested                                                    \n",
       "2                                Somewhat interested                                                    \n",
       "3                                    Very interested                                                    \n",
       "4                                    Very interested                                                    \n",
       "\n",
       "  What's your level of interest for the following areas of Data Science? [Big Data (Spark / Hadoop)]  \\\n",
       "0                                     Not interested                                                   \n",
       "1                                Somewhat interested                                                   \n",
       "2                                    Very interested                                                   \n",
       "3                                    Very interested                                                   \n",
       "4                                    Very interested                                                   \n",
       "\n",
       "  What's your level of interest for the following areas of Data Science? [Data Journalism]  \\\n",
       "0                                Somewhat interested                                         \n",
       "1                                     Not interested                                         \n",
       "2                                     Not interested                                         \n",
       "3                                Somewhat interested                                         \n",
       "4                                     Not interested                                         \n",
       "\n",
       "  What's your level of interest for the following areas of Data Science? [Deep Learning]  \n",
       "0                                Somewhat interested                                      \n",
       "1                                    Very interested                                      \n",
       "2                                    Very interested                                      \n",
       "3                                    Very interested                                      \n",
       "4                                Somewhat interested                                      "
      ]
     },
     "execution_count": 56,
     "metadata": {},
     "output_type": "execute_result"
    }
   ],
   "source": [
    "df2=df.drop(['Timestamp'],axis=1)\n",
    "df2.head()"
   ]
  },
  {
   "cell_type": "code",
   "execution_count": 57,
   "metadata": {},
   "outputs": [],
   "source": [
    "df2=df2.rename(columns={\"What's your level of interest for the following areas of Data Science? [Data Visualization]\":\"Data Visualization\",\"What's your level of interest for the following areas of Data Science? [Machine Learning]\":\"Machine Learning\",\"What's your level of interest for the following areas of Data Science? [Data Analysis / Statistics]\":\"Data Analysis/Statistics\",\"What's your level of interest for the following areas of Data Science? [Big Data (Spark / Hadoop)]\":\"Big Data(Spark/Hadoop)\",\"What's your level of interest for the following areas of Data Science? [Data Journalism]\":\"Data Jounalism\",\"What's your level of interest for the following areas of Data Science? [Deep Learning]\":\"Deep Learning\"})"
   ]
  },
  {
   "cell_type": "code",
   "execution_count": 58,
   "metadata": {},
   "outputs": [
    {
     "data": {
      "text/plain": [
       "Very interested        1340\n",
       "Somewhat interested     734\n",
       "Not interested          102\n",
       "Name: Data Visualization, dtype: int64"
      ]
     },
     "execution_count": 58,
     "metadata": {},
     "output_type": "execute_result"
    }
   ],
   "source": [
    "df2['Data Visualization'].value_counts()"
   ]
  },
  {
   "cell_type": "code",
   "execution_count": 59,
   "metadata": {},
   "outputs": [],
   "source": [
    "df2=df2.apply(pd.Series.value_counts)\n"
   ]
  },
  {
   "cell_type": "code",
   "execution_count": 60,
   "metadata": {},
   "outputs": [
    {
     "data": {
      "text/html": [
       "<div>\n",
       "<style scoped>\n",
       "    .dataframe tbody tr th:only-of-type {\n",
       "        vertical-align: middle;\n",
       "    }\n",
       "\n",
       "    .dataframe tbody tr th {\n",
       "        vertical-align: top;\n",
       "    }\n",
       "\n",
       "    .dataframe thead th {\n",
       "        text-align: right;\n",
       "    }\n",
       "</style>\n",
       "<table border=\"1\" class=\"dataframe\">\n",
       "  <thead>\n",
       "    <tr style=\"text-align: right;\">\n",
       "      <th></th>\n",
       "      <th>Not interested</th>\n",
       "      <th>Somewhat interested</th>\n",
       "      <th>Very interested</th>\n",
       "    </tr>\n",
       "  </thead>\n",
       "  <tbody>\n",
       "    <tr>\n",
       "      <th>Data Visualization</th>\n",
       "      <td>102</td>\n",
       "      <td>734</td>\n",
       "      <td>1340</td>\n",
       "    </tr>\n",
       "    <tr>\n",
       "      <th>Machine Learning</th>\n",
       "      <td>74</td>\n",
       "      <td>477</td>\n",
       "      <td>1629</td>\n",
       "    </tr>\n",
       "    <tr>\n",
       "      <th>Data Analysis/Statistics</th>\n",
       "      <td>60</td>\n",
       "      <td>444</td>\n",
       "      <td>1688</td>\n",
       "    </tr>\n",
       "    <tr>\n",
       "      <th>Big Data(Spark/Hadoop)</th>\n",
       "      <td>127</td>\n",
       "      <td>729</td>\n",
       "      <td>1332</td>\n",
       "    </tr>\n",
       "    <tr>\n",
       "      <th>Data Jounalism</th>\n",
       "      <td>610</td>\n",
       "      <td>1081</td>\n",
       "      <td>429</td>\n",
       "    </tr>\n",
       "    <tr>\n",
       "      <th>Deep Learning</th>\n",
       "      <td>136</td>\n",
       "      <td>770</td>\n",
       "      <td>1263</td>\n",
       "    </tr>\n",
       "  </tbody>\n",
       "</table>\n",
       "</div>"
      ],
      "text/plain": [
       "                          Not interested  Somewhat interested  Very interested\n",
       "Data Visualization                   102                  734             1340\n",
       "Machine Learning                      74                  477             1629\n",
       "Data Analysis/Statistics              60                  444             1688\n",
       "Big Data(Spark/Hadoop)               127                  729             1332\n",
       "Data Jounalism                       610                 1081              429\n",
       "Deep Learning                        136                  770             1263"
      ]
     },
     "execution_count": 60,
     "metadata": {},
     "output_type": "execute_result"
    }
   ],
   "source": [
    "df2.transpose()"
   ]
  },
  {
   "cell_type": "code",
   "execution_count": 61,
   "metadata": {},
   "outputs": [],
   "source": [
    "df2.sort_index(axis=1, inplace=True)"
   ]
  },
  {
   "cell_type": "code",
   "execution_count": 62,
   "metadata": {},
   "outputs": [
    {
     "data": {
      "text/html": [
       "<div>\n",
       "<style scoped>\n",
       "    .dataframe tbody tr th:only-of-type {\n",
       "        vertical-align: middle;\n",
       "    }\n",
       "\n",
       "    .dataframe tbody tr th {\n",
       "        vertical-align: top;\n",
       "    }\n",
       "\n",
       "    .dataframe thead th {\n",
       "        text-align: right;\n",
       "    }\n",
       "</style>\n",
       "<table border=\"1\" class=\"dataframe\">\n",
       "  <thead>\n",
       "    <tr style=\"text-align: right;\">\n",
       "      <th></th>\n",
       "      <th>Big Data(Spark/Hadoop)</th>\n",
       "      <th>Data Analysis/Statistics</th>\n",
       "      <th>Data Jounalism</th>\n",
       "      <th>Data Visualization</th>\n",
       "      <th>Deep Learning</th>\n",
       "      <th>Machine Learning</th>\n",
       "    </tr>\n",
       "  </thead>\n",
       "  <tbody>\n",
       "    <tr>\n",
       "      <th>Not interested</th>\n",
       "      <td>127</td>\n",
       "      <td>60</td>\n",
       "      <td>610</td>\n",
       "      <td>102</td>\n",
       "      <td>136</td>\n",
       "      <td>74</td>\n",
       "    </tr>\n",
       "    <tr>\n",
       "      <th>Somewhat interested</th>\n",
       "      <td>729</td>\n",
       "      <td>444</td>\n",
       "      <td>1081</td>\n",
       "      <td>734</td>\n",
       "      <td>770</td>\n",
       "      <td>477</td>\n",
       "    </tr>\n",
       "    <tr>\n",
       "      <th>Very interested</th>\n",
       "      <td>1332</td>\n",
       "      <td>1688</td>\n",
       "      <td>429</td>\n",
       "      <td>1340</td>\n",
       "      <td>1263</td>\n",
       "      <td>1629</td>\n",
       "    </tr>\n",
       "  </tbody>\n",
       "</table>\n",
       "</div>"
      ],
      "text/plain": [
       "                     Big Data(Spark/Hadoop)  Data Analysis/Statistics  \\\n",
       "Not interested                          127                        60   \n",
       "Somewhat interested                     729                       444   \n",
       "Very interested                        1332                      1688   \n",
       "\n",
       "                     Data Jounalism  Data Visualization  Deep Learning  \\\n",
       "Not interested                  610                 102            136   \n",
       "Somewhat interested            1081                 734            770   \n",
       "Very interested                 429                1340           1263   \n",
       "\n",
       "                     Machine Learning  \n",
       "Not interested                     74  \n",
       "Somewhat interested               477  \n",
       "Very interested                  1629  "
      ]
     },
     "execution_count": 62,
     "metadata": {},
     "output_type": "execute_result"
    }
   ],
   "source": [
    "df2.head()"
   ]
  },
  {
   "cell_type": "code",
   "execution_count": 63,
   "metadata": {},
   "outputs": [],
   "source": [
    "df2=df2.transpose()"
   ]
  },
  {
   "cell_type": "code",
   "execution_count": 64,
   "metadata": {},
   "outputs": [
    {
     "data": {
      "text/html": [
       "<div>\n",
       "<style scoped>\n",
       "    .dataframe tbody tr th:only-of-type {\n",
       "        vertical-align: middle;\n",
       "    }\n",
       "\n",
       "    .dataframe tbody tr th {\n",
       "        vertical-align: top;\n",
       "    }\n",
       "\n",
       "    .dataframe thead th {\n",
       "        text-align: right;\n",
       "    }\n",
       "</style>\n",
       "<table border=\"1\" class=\"dataframe\">\n",
       "  <thead>\n",
       "    <tr style=\"text-align: right;\">\n",
       "      <th></th>\n",
       "      <th>Not interested</th>\n",
       "      <th>Somewhat interested</th>\n",
       "      <th>Very interested</th>\n",
       "    </tr>\n",
       "  </thead>\n",
       "  <tbody>\n",
       "    <tr>\n",
       "      <th>Big Data(Spark/Hadoop)</th>\n",
       "      <td>127</td>\n",
       "      <td>729</td>\n",
       "      <td>1332</td>\n",
       "    </tr>\n",
       "    <tr>\n",
       "      <th>Data Analysis/Statistics</th>\n",
       "      <td>60</td>\n",
       "      <td>444</td>\n",
       "      <td>1688</td>\n",
       "    </tr>\n",
       "    <tr>\n",
       "      <th>Data Jounalism</th>\n",
       "      <td>610</td>\n",
       "      <td>1081</td>\n",
       "      <td>429</td>\n",
       "    </tr>\n",
       "    <tr>\n",
       "      <th>Data Visualization</th>\n",
       "      <td>102</td>\n",
       "      <td>734</td>\n",
       "      <td>1340</td>\n",
       "    </tr>\n",
       "    <tr>\n",
       "      <th>Deep Learning</th>\n",
       "      <td>136</td>\n",
       "      <td>770</td>\n",
       "      <td>1263</td>\n",
       "    </tr>\n",
       "    <tr>\n",
       "      <th>Machine Learning</th>\n",
       "      <td>74</td>\n",
       "      <td>477</td>\n",
       "      <td>1629</td>\n",
       "    </tr>\n",
       "  </tbody>\n",
       "</table>\n",
       "</div>"
      ],
      "text/plain": [
       "                          Not interested  Somewhat interested  Very interested\n",
       "Big Data(Spark/Hadoop)               127                  729             1332\n",
       "Data Analysis/Statistics              60                  444             1688\n",
       "Data Jounalism                       610                 1081              429\n",
       "Data Visualization                   102                  734             1340\n",
       "Deep Learning                        136                  770             1263\n",
       "Machine Learning                      74                  477             1629"
      ]
     },
     "execution_count": 64,
     "metadata": {},
     "output_type": "execute_result"
    }
   ],
   "source": [
    "df2"
   ]
  },
  {
   "cell_type": "code",
   "execution_count": 65,
   "metadata": {},
   "outputs": [
    {
     "name": "stdout",
     "output_type": "stream",
     "text": [
      "Matplotlib version:  2.2.2\n"
     ]
    }
   ],
   "source": [
    "%matplotlib inline \n",
    "\n",
    "import matplotlib as mpl\n",
    "import matplotlib.pyplot as plt\n",
    "\n",
    "mpl.style.use('ggplot') # optional: for ggplot-like style\n",
    "\n",
    "# check for latest version of Matplotlib\n",
    "print ('Matplotlib version: ', mpl.__version__) # >= 2.0.0"
   ]
  },
  {
   "cell_type": "code",
   "execution_count": 66,
   "metadata": {},
   "outputs": [],
   "source": [
    "df2.sort_index(ascending=False,axis=1, inplace=True)"
   ]
  },
  {
   "cell_type": "code",
   "execution_count": 67,
   "metadata": {},
   "outputs": [],
   "source": [
    "df2.sort_values(['Very interested'], ascending=False, axis=0, inplace=True)"
   ]
  },
  {
   "cell_type": "code",
   "execution_count": 68,
   "metadata": {},
   "outputs": [
    {
     "data": {
      "text/html": [
       "<div>\n",
       "<style scoped>\n",
       "    .dataframe tbody tr th:only-of-type {\n",
       "        vertical-align: middle;\n",
       "    }\n",
       "\n",
       "    .dataframe tbody tr th {\n",
       "        vertical-align: top;\n",
       "    }\n",
       "\n",
       "    .dataframe thead th {\n",
       "        text-align: right;\n",
       "    }\n",
       "</style>\n",
       "<table border=\"1\" class=\"dataframe\">\n",
       "  <thead>\n",
       "    <tr style=\"text-align: right;\">\n",
       "      <th></th>\n",
       "      <th>Very interested</th>\n",
       "      <th>Somewhat interested</th>\n",
       "      <th>Not interested</th>\n",
       "    </tr>\n",
       "  </thead>\n",
       "  <tbody>\n",
       "    <tr>\n",
       "      <th>Data Analysis/Statistics</th>\n",
       "      <td>1688</td>\n",
       "      <td>444</td>\n",
       "      <td>60</td>\n",
       "    </tr>\n",
       "    <tr>\n",
       "      <th>Machine Learning</th>\n",
       "      <td>1629</td>\n",
       "      <td>477</td>\n",
       "      <td>74</td>\n",
       "    </tr>\n",
       "    <tr>\n",
       "      <th>Data Visualization</th>\n",
       "      <td>1340</td>\n",
       "      <td>734</td>\n",
       "      <td>102</td>\n",
       "    </tr>\n",
       "    <tr>\n",
       "      <th>Big Data(Spark/Hadoop)</th>\n",
       "      <td>1332</td>\n",
       "      <td>729</td>\n",
       "      <td>127</td>\n",
       "    </tr>\n",
       "    <tr>\n",
       "      <th>Deep Learning</th>\n",
       "      <td>1263</td>\n",
       "      <td>770</td>\n",
       "      <td>136</td>\n",
       "    </tr>\n",
       "    <tr>\n",
       "      <th>Data Jounalism</th>\n",
       "      <td>429</td>\n",
       "      <td>1081</td>\n",
       "      <td>610</td>\n",
       "    </tr>\n",
       "  </tbody>\n",
       "</table>\n",
       "</div>"
      ],
      "text/plain": [
       "                          Very interested  Somewhat interested  Not interested\n",
       "Data Analysis/Statistics             1688                  444              60\n",
       "Machine Learning                     1629                  477              74\n",
       "Data Visualization                   1340                  734             102\n",
       "Big Data(Spark/Hadoop)               1332                  729             127\n",
       "Deep Learning                        1263                  770             136\n",
       "Data Jounalism                        429                 1081             610"
      ]
     },
     "execution_count": 68,
     "metadata": {},
     "output_type": "execute_result"
    }
   ],
   "source": [
    "df2"
   ]
  },
  {
   "cell_type": "code",
   "execution_count": 69,
   "metadata": {},
   "outputs": [
    {
     "data": {
      "text/html": [
       "<div>\n",
       "<style scoped>\n",
       "    .dataframe tbody tr th:only-of-type {\n",
       "        vertical-align: middle;\n",
       "    }\n",
       "\n",
       "    .dataframe tbody tr th {\n",
       "        vertical-align: top;\n",
       "    }\n",
       "\n",
       "    .dataframe thead th {\n",
       "        text-align: right;\n",
       "    }\n",
       "</style>\n",
       "<table border=\"1\" class=\"dataframe\">\n",
       "  <thead>\n",
       "    <tr style=\"text-align: right;\">\n",
       "      <th></th>\n",
       "      <th>Very interested</th>\n",
       "      <th>Somewhat interested</th>\n",
       "      <th>Not interested</th>\n",
       "    </tr>\n",
       "  </thead>\n",
       "  <tbody>\n",
       "    <tr>\n",
       "      <th>Data Analysis/Statistics</th>\n",
       "      <td>1688</td>\n",
       "      <td>444</td>\n",
       "      <td>60</td>\n",
       "    </tr>\n",
       "    <tr>\n",
       "      <th>Machine Learning</th>\n",
       "      <td>1629</td>\n",
       "      <td>477</td>\n",
       "      <td>74</td>\n",
       "    </tr>\n",
       "    <tr>\n",
       "      <th>Data Visualization</th>\n",
       "      <td>1340</td>\n",
       "      <td>734</td>\n",
       "      <td>102</td>\n",
       "    </tr>\n",
       "    <tr>\n",
       "      <th>Big Data(Spark/Hadoop)</th>\n",
       "      <td>1332</td>\n",
       "      <td>729</td>\n",
       "      <td>127</td>\n",
       "    </tr>\n",
       "    <tr>\n",
       "      <th>Deep Learning</th>\n",
       "      <td>1263</td>\n",
       "      <td>770</td>\n",
       "      <td>136</td>\n",
       "    </tr>\n",
       "    <tr>\n",
       "      <th>Data Jounalism</th>\n",
       "      <td>429</td>\n",
       "      <td>1081</td>\n",
       "      <td>610</td>\n",
       "    </tr>\n",
       "  </tbody>\n",
       "</table>\n",
       "</div>"
      ],
      "text/plain": [
       "                          Very interested  Somewhat interested  Not interested\n",
       "Data Analysis/Statistics             1688                  444              60\n",
       "Machine Learning                     1629                  477              74\n",
       "Data Visualization                   1340                  734             102\n",
       "Big Data(Spark/Hadoop)               1332                  729             127\n",
       "Deep Learning                        1263                  770             136\n",
       "Data Jounalism                        429                 1081             610"
      ]
     },
     "execution_count": 69,
     "metadata": {},
     "output_type": "execute_result"
    }
   ],
   "source": [
    "df2"
   ]
  },
  {
   "cell_type": "code",
   "execution_count": 70,
   "metadata": {},
   "outputs": [
    {
     "data": {
      "text/plain": [
       "Data Analysis/Statistics    75.593372\n",
       "Machine Learning            72.951187\n",
       "Data Visualization          60.008957\n",
       "Big Data(Spark/Hadoop)      59.650694\n",
       "Deep Learning               56.560681\n",
       "Data Jounalism              19.211823\n",
       "Name: Very interested, dtype: float64"
      ]
     },
     "execution_count": 70,
     "metadata": {},
     "output_type": "execute_result"
    }
   ],
   "source": [
    "df2['Very interested']=(df2['Very interested'] / 2233)*100\n",
    "df2['Very interested']"
   ]
  },
  {
   "cell_type": "code",
   "execution_count": 71,
   "metadata": {},
   "outputs": [],
   "source": [
    "df2['Somewhat interested']=(df2['Somewhat interested']/2233)*100\n",
    "df2['Not interested']=(df2['Not interested']/2233)*100\n"
   ]
  },
  {
   "cell_type": "code",
   "execution_count": 72,
   "metadata": {},
   "outputs": [
    {
     "data": {
      "text/html": [
       "<div>\n",
       "<style scoped>\n",
       "    .dataframe tbody tr th:only-of-type {\n",
       "        vertical-align: middle;\n",
       "    }\n",
       "\n",
       "    .dataframe tbody tr th {\n",
       "        vertical-align: top;\n",
       "    }\n",
       "\n",
       "    .dataframe thead th {\n",
       "        text-align: right;\n",
       "    }\n",
       "</style>\n",
       "<table border=\"1\" class=\"dataframe\">\n",
       "  <thead>\n",
       "    <tr style=\"text-align: right;\">\n",
       "      <th></th>\n",
       "      <th>Very interested</th>\n",
       "      <th>Somewhat interested</th>\n",
       "      <th>Not interested</th>\n",
       "    </tr>\n",
       "  </thead>\n",
       "  <tbody>\n",
       "    <tr>\n",
       "      <th>Data Analysis/Statistics</th>\n",
       "      <td>75.593372</td>\n",
       "      <td>19.883565</td>\n",
       "      <td>2.686968</td>\n",
       "    </tr>\n",
       "    <tr>\n",
       "      <th>Machine Learning</th>\n",
       "      <td>72.951187</td>\n",
       "      <td>21.361397</td>\n",
       "      <td>3.313927</td>\n",
       "    </tr>\n",
       "    <tr>\n",
       "      <th>Data Visualization</th>\n",
       "      <td>60.008957</td>\n",
       "      <td>32.870578</td>\n",
       "      <td>4.567846</td>\n",
       "    </tr>\n",
       "    <tr>\n",
       "      <th>Big Data(Spark/Hadoop)</th>\n",
       "      <td>59.650694</td>\n",
       "      <td>32.646664</td>\n",
       "      <td>5.687416</td>\n",
       "    </tr>\n",
       "    <tr>\n",
       "      <th>Deep Learning</th>\n",
       "      <td>56.560681</td>\n",
       "      <td>34.482759</td>\n",
       "      <td>6.090461</td>\n",
       "    </tr>\n",
       "    <tr>\n",
       "      <th>Data Jounalism</th>\n",
       "      <td>19.211823</td>\n",
       "      <td>48.410210</td>\n",
       "      <td>27.317510</td>\n",
       "    </tr>\n",
       "  </tbody>\n",
       "</table>\n",
       "</div>"
      ],
      "text/plain": [
       "                          Very interested  Somewhat interested  Not interested\n",
       "Data Analysis/Statistics        75.593372            19.883565        2.686968\n",
       "Machine Learning                72.951187            21.361397        3.313927\n",
       "Data Visualization              60.008957            32.870578        4.567846\n",
       "Big Data(Spark/Hadoop)          59.650694            32.646664        5.687416\n",
       "Deep Learning                   56.560681            34.482759        6.090461\n",
       "Data Jounalism                  19.211823            48.410210       27.317510"
      ]
     },
     "execution_count": 72,
     "metadata": {},
     "output_type": "execute_result"
    }
   ],
   "source": [
    "df2"
   ]
  },
  {
   "cell_type": "code",
   "execution_count": null,
   "metadata": {},
   "outputs": [],
   "source": []
  },
  {
   "cell_type": "code",
   "execution_count": 86,
   "metadata": {},
   "outputs": [
    {
     "data": {
      "image/png": "[encoded data removed]",
      "text/plain": [
       "<Figure size 1440x576 with 1 Axes>"
      ]
     },
     "metadata": {},
     "output_type": "display_data"
    }
   ],
   "source": [
    "ax=df2.plot(kind=\"bar\",width=0.8,figsize=(20,8),color=['#5cb85c', '#5bc0de', '#d9534f'])\n",
    "plt.title(\"Percentage of Respondent's Interest in Data Science Areas\",fontsize=16)\n",
    "plt.xticks(fontsize=14)\n",
    "plt.yticks([])\n",
    "plt.grid(False)\n",
    "ax.set_facecolor('white')\n",
    "for p in ax.patches:\n",
    "             ax.annotate(\"%.2f\" % p.get_height(), (p.get_x() + p.get_width() / 2., p.get_height()),\n",
    "                 ha='center', va='center', fontsize=11, color='gray', xytext=(0, 20),\n",
    "                 textcoords='offset points')\n",
    "_ = ax.set_ylim(0,120)\n",
    "plt.show()"
   ]
  }
 ],
 "metadata": {
  "kernelspec": {
   "display_name": "Python 3",
   "language": "python",
   "name": "python3"
  },
  "language_info": {
   "codemirror_mode": {
    "name": "ipython",
    "version": 3
   },
   "file_extension": ".py",
   "mimetype": "text/x-python",
   "name": "python",
   "nbconvert_exporter": "python",
   "pygments_lexer": "ipython3",
   "version": "3.6.5"
  }
 },
 "nbformat": 4,
 "nbformat_minor": 2
}
